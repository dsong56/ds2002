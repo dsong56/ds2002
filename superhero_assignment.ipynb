{
  "cells": [
    {
      "cell_type": "markdown",
      "metadata": {
        "id": "view-in-github",
        "colab_type": "text"
      },
      "source": [
        "<a href=\"https://colab.research.google.com/github/dsong56/ds2002/blob/main/superhero_assignment.ipynb\" target=\"_parent\"><img src=\"https://colab.research.google.com/assets/colab-badge.svg\" alt=\"Open In Colab\"/></a>"
      ]
    },
    {
      "cell_type": "markdown",
      "id": "5fa8dcf6",
      "metadata": {
        "id": "5fa8dcf6"
      },
      "source": [
        "# Superhero Database Assignment (SQLite & Google Colab)\n",
        "\n",
        "## Objective\n",
        "In this assignment, you will design and implement a **Superhero Database** using SQLite in Google Colab. This database will store superheroes, villains, and their battles. You will write SQL queries to analyze battle outcomes and relationships between heroes and villains.\n",
        "\n",
        "### Group Size:\n",
        "- 2 to 3 students per group.\n",
        "\n",
        "### Tools Required:\n",
        "- **Google Colab**\n",
        "- **SQLite (built into Python)**\n",
        "- **CSV files (provided for import)**"
      ]
    },
    {
      "cell_type": "markdown",
      "id": "5535e625",
      "metadata": {
        "id": "5535e625"
      },
      "source": [
        "## Step 1: Setting Up Your SQLite Database\n",
        "\n",
        "### Tasks:\n",
        "1. Initialize SQLite in Google Colab.\n",
        "2. Create a database named `superhero_db.sqlite`.\n",
        "3. Define the database schema, ensuring it includes the following tables:\n",
        "   - `heroes`: Stores superhero names, powers, and teams.\n",
        "   - `villains`: Stores villains and their evil plans.\n",
        "   - `battles`: Tracks battles between heroes and villains, including the outcome.\n",
        "4. Implement primary keys and foreign keys where appropriate.\n",
        "\n",
        "✅ **Checkpoint:** Ensure that the database and tables have been successfully created."
      ]
    },
    {
      "cell_type": "code",
      "source": [
        "import sqlite3\n",
        "connection = sqlite3.connect('superhero_db.sqlite')\n",
        "cursor = connection.cursor()\n",
        "\n",
        "cursor.execute('''\n",
        "CREATE TABLE IF NOT EXISTS heroes (\n",
        "  id INTEGER PRIMARY KEY AUTOINCREMENT,\n",
        "  name TEXT NOT NULL,\n",
        "  power TEXT NOT NULL,\n",
        "  team TEXT NOT NULL\n",
        ")\n",
        "''')\n",
        "cursor.execute('''\n",
        "CREATE TABLE IF NOT EXISTS villains (\n",
        "  id INTEGER PRIMARY KEY AUTOINCREMENT,\n",
        "  name TEXT NOT NULL,\n",
        "  evil_plan TEXT NOT NULL\n",
        ")\n",
        "''')\n",
        "cursor.execute('''\n",
        "CREATE TABLE IF NOT EXISTS battles (\n",
        "  id INTEGER PRIMARY KEY AUTOINCREMENT,\n",
        "  hero_id INTEGER,\n",
        "  villain_id INTEGER,\n",
        "  outcome TEXT NOT NULL,\n",
        "  FOREIGN KEY (hero_id) REFERENCES heroes(id),\n",
        "  FOREIGN KEY (villain_id) REFERENCES villains(id)\n",
        ")\n",
        "''')"
      ],
      "metadata": {
        "id": "p9ib04HE5RXi",
        "outputId": "9ce1479a-36b3-407f-8d02-fe4e06e30df7",
        "colab": {
          "base_uri": "https://localhost:8080/"
        }
      },
      "id": "p9ib04HE5RXi",
      "execution_count": 2,
      "outputs": [
        {
          "output_type": "execute_result",
          "data": {
            "text/plain": [
              "<sqlite3.Cursor at 0x78ce55398a40>"
            ]
          },
          "metadata": {},
          "execution_count": 2
        }
      ]
    },
    {
      "cell_type": "markdown",
      "id": "154b3c3a",
      "metadata": {
        "id": "154b3c3a"
      },
      "source": [
        "## Step 2: Import Data from CSV Files\n",
        "\n",
        "### Tasks:\n",
        "1. Download the provided CSV files.\n",
        "2. Upload them to Google Colab.\n",
        "3. Write a script to import data from these files into the appropriate tables.\n",
        "4. Verify that the data has been successfully inserted.\n",
        "\n",
        "✅ **Checkpoint:** Ensure that each table contains the expected data from the CSV files."
      ]
    },
    {
      "cell_type": "code",
      "source": [
        "import pandas as pd\n",
        "\n",
        "heroes = pd.read_csv('heroes.csv')\n",
        "villains = pd.read_csv('villains.csv')\n",
        "battles = pd.read_csv('battles.csv')\n",
        "\n",
        "heroes.to_sql('heroes', connection, if_exists='replace', index=False)\n",
        "villains.to_sql('villains', connection, if_exists='replace', index=False)\n",
        "battles.to_sql('battles', connection, if_exists='replace', index=False)\n",
        "\n",
        "print(heroes.head())\n",
        "print(villains.head())\n",
        "print(battles.head())"
      ],
      "metadata": {
        "id": "cf3HDEog7-MX",
        "outputId": "85e5331c-3f2f-49c4-9259-71d6afe3bdaf",
        "colab": {
          "base_uri": "https://localhost:8080/"
        }
      },
      "id": "cf3HDEog7-MX",
      "execution_count": 3,
      "outputs": [
        {
          "output_type": "stream",
          "name": "stdout",
          "text": [
            "   id        name             power            team\n",
            "0   1  Spider-Man      Web-slinging        Avengers\n",
            "1   2    Iron Man     Powered Armor        Avengers\n",
            "2   3      Batman  Genius Detective  Justice League\n",
            "3   4    Superman    Super Strength  Justice League\n",
            "4   5        Thor    God of Thunder        Avengers\n",
            "   id          name                           evil_plan\n",
            "0   1  Green Goblin                  Terrorize New York\n",
            "1   2        Thanos         Collect all Infinity Stones\n",
            "2   3         Joker              Spread chaos in Gotham\n",
            "3   4    Lex Luthor                     Defeat Superman\n",
            "4   5          Loki  Trick humanity into worshiping him\n",
            "   id  hero_id  villain_id       outcome\n",
            "0   1        1          10  Villain Wins\n",
            "1   2        9           3     Hero Wins\n",
            "2   3        8           1          Draw\n",
            "3   4        5           4  Villain Wins\n",
            "4   5        1           7     Hero Wins\n"
          ]
        }
      ]
    },
    {
      "cell_type": "markdown",
      "id": "33548d9f",
      "metadata": {
        "id": "33548d9f"
      },
      "source": [
        "## Step 3: Querying the Database\n",
        "\n",
        "### Tasks:\n",
        "Write SQL queries to answer the following:\n",
        "1. Retrieve all superheroes and their powers.\n",
        "2. Find all battles where the hero won.\n",
        "3. List all villains and their evil plans.\n",
        "4. Determine which superhero has fought the most battles.\n",
        "\n",
        "✅ **Checkpoint:** Ensure that all queries return meaningful results from the database."
      ]
    },
    {
      "cell_type": "code",
      "source": [
        "cursor.execute('''\n",
        "SELECT name, power FROM heroes\n",
        "''')\n",
        "cursor.fetchall()"
      ],
      "metadata": {
        "id": "Zj5Zvq3w9VlR",
        "outputId": "93ce626e-7a08-444b-ed19-59c731303b5a",
        "colab": {
          "base_uri": "https://localhost:8080/"
        }
      },
      "id": "Zj5Zvq3w9VlR",
      "execution_count": 4,
      "outputs": [
        {
          "output_type": "execute_result",
          "data": {
            "text/plain": [
              "[('Spider-Man', 'Web-slinging'),\n",
              " ('Iron Man', 'Powered Armor'),\n",
              " ('Batman', 'Genius Detective'),\n",
              " ('Superman', 'Super Strength'),\n",
              " ('Thor', 'God of Thunder'),\n",
              " ('Wonder Woman', 'Amazonian Strength'),\n",
              " ('Black Panther', 'Enhanced Agility'),\n",
              " ('The Flash', 'Super Speed'),\n",
              " ('Hulk', 'Super Strength'),\n",
              " ('Doctor Strange', 'Mystic Arts')]"
            ]
          },
          "metadata": {},
          "execution_count": 4
        }
      ]
    },
    {
      "cell_type": "code",
      "source": [
        "cursor.execute('''\n",
        "SELECT * FROM battles\n",
        "WHERE outcome = 'Hero Wins'\n",
        "''')\n",
        "cursor.fetchall()"
      ],
      "metadata": {
        "id": "iVpgW7JY-eH9",
        "outputId": "59874554-f903-47b2-b353-77b244b2bd88",
        "colab": {
          "base_uri": "https://localhost:8080/"
        }
      },
      "id": "iVpgW7JY-eH9",
      "execution_count": 5,
      "outputs": [
        {
          "output_type": "execute_result",
          "data": {
            "text/plain": [
              "[(2, 9, 3, 'Hero Wins'),\n",
              " (5, 1, 7, 'Hero Wins'),\n",
              " (7, 9, 8, 'Hero Wins'),\n",
              " (8, 3, 2, 'Hero Wins'),\n",
              " (9, 7, 5, 'Hero Wins'),\n",
              " (13, 8, 9, 'Hero Wins'),\n",
              " (20, 3, 4, 'Hero Wins'),\n",
              " (29, 3, 5, 'Hero Wins'),\n",
              " (30, 5, 5, 'Hero Wins')]"
            ]
          },
          "metadata": {},
          "execution_count": 5
        }
      ]
    },
    {
      "cell_type": "code",
      "source": [
        "cursor.execute('''\n",
        "SELECT name, evil_plan FROM villains\n",
        "''')\n",
        "cursor.fetchall()"
      ],
      "metadata": {
        "id": "O70I2vBF_JKD",
        "outputId": "ef900f7e-eaa5-4155-aabb-9e74135b8a48",
        "colab": {
          "base_uri": "https://localhost:8080/"
        }
      },
      "id": "O70I2vBF_JKD",
      "execution_count": 6,
      "outputs": [
        {
          "output_type": "execute_result",
          "data": {
            "text/plain": [
              "[('Green Goblin', 'Terrorize New York'),\n",
              " ('Thanos', 'Collect all Infinity Stones'),\n",
              " ('Joker', 'Spread chaos in Gotham'),\n",
              " ('Lex Luthor', 'Defeat Superman'),\n",
              " ('Loki', 'Trick humanity into worshiping him'),\n",
              " ('Ultron', 'AI world domination'),\n",
              " ('Darkseid', 'Control the universe'),\n",
              " ('Venom', 'Consume Spider-Man'),\n",
              " ('Magneto', 'Mutant supremacy'),\n",
              " ('Red Skull', 'Revive Hydra')]"
            ]
          },
          "metadata": {},
          "execution_count": 6
        }
      ]
    },
    {
      "cell_type": "code",
      "source": [
        "cursor.execute('''\n",
        "SELECT heroes.name, COUNT(battles.hero_id) AS fought FROM battles\n",
        "JOIN heroes ON battles.hero_id = heroes.id\n",
        "GROUP BY heroes.name\n",
        "ORDER BY fought DESC\n",
        "''')\n",
        "cursor.fetchone()"
      ],
      "metadata": {
        "id": "5whH6MzN_UB9",
        "outputId": "ccf03d85-ec7a-4cb1-a340-f3e948aba0ad",
        "colab": {
          "base_uri": "https://localhost:8080/"
        }
      },
      "id": "5whH6MzN_UB9",
      "execution_count": 7,
      "outputs": [
        {
          "output_type": "execute_result",
          "data": {
            "text/plain": [
              "('Batman', 7)"
            ]
          },
          "metadata": {},
          "execution_count": 7
        }
      ]
    },
    {
      "cell_type": "markdown",
      "id": "de8bda94",
      "metadata": {
        "id": "de8bda94"
      },
      "source": [
        "## Step 4: Add a Custom Feature\n",
        "\n",
        "### Tasks:\n",
        "1. Design and implement an additional table related to superheroes or villains.\n",
        "2. Populate it with data.\n",
        "3. Write at least one query to retrieve meaningful insights from the new table.\n",
        "\n",
        "**Examples of Custom Features:**\n",
        "- Sidekicks for superheroes\n",
        "- Villain hideouts\n",
        "- Battle locations\n",
        "- Superhero equipment\n",
        "\n",
        "✅ **Checkpoint:** Ensure that the new table and queries function correctly."
      ]
    },
    {
      "cell_type": "code",
      "source": [
        "cursor.execute('''\n",
        "CREATE TABLE IF NOT EXISTS sidekicks (\n",
        "  id INTEGER PRIMARY KEY AUTOINCREMENT,\n",
        "  hero_id INTEGER NOT NULL,\n",
        "  name TEXT NOT NULL,\n",
        "  FOREIGN KEY (hero_id) REFERENCES heroes(id)\n",
        ")\n",
        "''')\n",
        "\n",
        "sidekick_data = [\n",
        "    (1, 'Miles Morales'),\n",
        "    (2, 'Peter Parker'),\n",
        "    (3, 'Dick Grayson'),\n",
        "    (3, 'Jason Todd'),\n",
        "    (3, 'Tim Drake')\n",
        "]\n",
        "\n",
        "cursor.executemany('''\n",
        "INSERT INTO sidekicks (hero_id, name)\n",
        "VALUES (?, ?)\n",
        "''', sidekick_data)\n",
        "\n",
        "connection.commit()\n",
        "\n",
        "cursor.execute('''\n",
        "SELECT heroes.name, MAX(sidekicks.hero_id) FROM heroes\n",
        "JOIN sidekicks ON heroes.id = sidekicks.hero_id\n",
        "GROUP BY heroes.name\n",
        "ORDER BY sidekicks.hero_id DESC\n",
        "''')\n",
        "result = cursor.fetchone()\n",
        "print(result[0], \"has the most sidekicks, with\", result[1])"
      ],
      "metadata": {
        "id": "thaLSTtfEqY4",
        "outputId": "8075c413-bef9-4dc0-adc0-cb2a6f381c37",
        "colab": {
          "base_uri": "https://localhost:8080/"
        }
      },
      "id": "thaLSTtfEqY4",
      "execution_count": 9,
      "outputs": [
        {
          "output_type": "stream",
          "name": "stdout",
          "text": [
            "Batman has the most sidekicks, with 3\n"
          ]
        }
      ]
    },
    {
      "cell_type": "markdown",
      "id": "9bf43fe6",
      "metadata": {
        "id": "9bf43fe6"
      },
      "source": [
        "## Bonus Challenge (+5 Points)\n",
        "\n",
        "### Tasks:\n",
        "1. Enhance your project by adding a visual or interactive component.\n",
        "\n",
        "**Options:**\n",
        "- Visualize battles using Matplotlib (e.g., a bar chart showing how many battles each superhero has fought).\n",
        "- Make it interactive (e.g., allow users to input a superhero name and display their battles).\n",
        "\n",
        "✅ **Checkpoint:** If attempting the bonus, ensure that your visualization or interactive component works correctly."
      ]
    },
    {
      "cell_type": "code",
      "source": [
        "import matplotlib.pyplot as plt\n",
        "\n",
        "cursor.execute('''\n",
        "SELECT heroes.name, COUNT(battles.hero_id) AS fought FROM battles\n",
        "JOIN heroes ON battles.hero_id = heroes.id\n",
        "GROUP BY heroes.name\n",
        "ORDER BY fought DESC\n",
        "''')\n",
        "\n",
        "battle_counts = cursor.fetchall()\n",
        "\n",
        "names = []\n",
        "counts = []\n",
        "\n",
        "for row in battle_counts:\n",
        "  names.append(row[0])\n",
        "  counts.append(row[1])\n",
        "\n",
        "plt.figure(figsize=(14, 6))\n",
        "plt.bar(names, counts)\n",
        "plt.xlabel('Hero Name')\n",
        "plt.ylabel('Number of Battles')\n",
        "plt.title('Number of Battles per Hero')\n",
        "plt.show()"
      ],
      "metadata": {
        "id": "ys-p6Hoxa6Uf",
        "outputId": "5d54cab4-7060-40e2-9170-79088b165747",
        "colab": {
          "base_uri": "https://localhost:8080/",
          "height": 564
        }
      },
      "id": "ys-p6Hoxa6Uf",
      "execution_count": 19,
      "outputs": [
        {
          "output_type": "display_data",
          "data": {
            "text/plain": [
              "<Figure size 1400x600 with 1 Axes>"
            ],
            "image/png": "[encoded data removed]"
          },
          "metadata": {}
        }
      ]
    },
    {
      "cell_type": "markdown",
      "id": "89f56c05",
      "metadata": {
        "id": "89f56c05"
      },
      "source": [
        "## Submission Guidelines\n",
        "\n",
        "Each group must submit a **Google Colab Notebook (.ipynb)** containing:\n",
        "- ✅ **Database schema (DDL)**\n",
        "- ✅ **CSV imports & data insertion (DML)**\n",
        "- ✅ **SQL queries & results**\n",
        "- ✅ **Custom feature (bonus if applicable)**"
      ]
    },
    {
      "cell_type": "markdown",
      "id": "61477c9b",
      "metadata": {
        "id": "61477c9b"
      },
      "source": [
        "## Grading Criteria (Total: 25 Points)\n",
        "\n",
        "| Section                 | Points |\n",
        "|-------------------------|--------|\n",
        "| Database Setup          | 5      |\n",
        "| Data Importing         | 10     |\n",
        "| Querying the Data      | 10     |\n",
        "| Extra Feature          | 5      |\n",
        "| Bonus Challenge (Optional) | +5  |"
      ]
    },
    {
      "cell_type": "markdown",
      "id": "92bf6839",
      "metadata": {
        "id": "92bf6839"
      },
      "source": [
        "### Final Notes:\n",
        "- Be **creative** when designing superheroes and villains.\n",
        "- **Comment your code** to explain its functionality.\n",
        "- **Have fun** building your superhero universe!"
      ]
    }
  ],
  "metadata": {
    "colab": {
      "provenance": [],
      "include_colab_link": true
    },
    "language_info": {
      "name": "python"
    },
    "kernelspec": {
      "name": "python3",
      "display_name": "Python 3"
    }
  },
  "nbformat": 4,
  "nbformat_minor": 5
}
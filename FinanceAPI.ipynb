{
  "nbformat": 4,
  "nbformat_minor": 0,
  "metadata": {
    "colab": {
      "provenance": [],
      "authorship_tag": "ABX9TyPVRRxuZFuAKFlFeM9ZsGBV",
      "include_colab_link": true
    },
    "kernelspec": {
      "name": "python3",
      "display_name": "Python 3"
    },
    "language_info": {
      "name": "python"
    }
  },
  "cells": [
    {
      "cell_type": "markdown",
      "metadata": {
        "id": "view-in-github",
        "colab_type": "text"
      },
      "source": [
        "<a href=\"https://colab.research.google.com/github/dsong56/ds2002/blob/main/FinanceAPI.ipynb\" target=\"_parent\"><img src=\"https://colab.research.google.com/assets/colab-badge.svg\" alt=\"Open In Colab\"/></a>"
      ]
    },
    {
      "cell_type": "code",
      "source": [
        "import json\n",
        "import pandas as pd\n",
        "import requests\n",
        "\n",
        "key = \"\"\n",
        "url = \"https://yfapi.net/v6/finance/quote\""
      ],
      "metadata": {
        "id": "rVC3DpPnWmPK"
      },
      "execution_count": 62,
      "outputs": []
    },
    {
      "cell_type": "markdown",
      "source": [
        "Task 1:"
      ],
      "metadata": {
        "id": "DcgZvV68WaBw"
      }
    },
    {
      "cell_type": "code",
      "source": [
        "stocks = input(\"Enter two or more stocks, separated by commas: \")\n",
        "\n",
        "def fetch_basic(stock):\n",
        "  querystring = {\"symbols\": stock}\n",
        "\n",
        "  headers = {\n",
        "    \"x-api-key\": key\n",
        "  }\n",
        "\n",
        "  response = requests.request(\"GET\", url, headers=headers, params=querystring)\n",
        "\n",
        "  data = response.json()\n",
        "\n",
        "  for result in data[\"quoteResponse\"][\"result\"]:\n",
        "        symbol = result.get(\"symbol\", \"N/A\")\n",
        "        company_name = result.get(\"longName\", \"N/A\")\n",
        "        market_price = result.get(\"regularMarketPrice\", \"N/A\")\n",
        "\n",
        "        print(f\"Symbol: {symbol}, Company: {company_name}, Market Price: ${market_price}\")\n",
        "\n",
        "fetch_basic(stocks)"
      ],
      "metadata": {
        "colab": {
          "base_uri": "https://localhost:8080/"
        },
        "id": "S3wq55SVWelg",
        "outputId": "fa165aaa-5818-423c-ce4e-a788434c4a57"
      },
      "execution_count": 74,
      "outputs": [
        {
          "output_type": "stream",
          "name": "stdout",
          "text": [
            "Enter two or more stocks, separated by commas: AAPL\n",
            "Symbol: AAPL, Company: Apple Inc., Market Price: $240.36\n"
          ]
        }
      ]
    },
    {
      "cell_type": "markdown",
      "source": [
        "Task 2.1:"
      ],
      "metadata": {
        "id": "BSu5yatHiO1Y"
      }
    },
    {
      "cell_type": "code",
      "source": [
        "stock = input(\"Enter a stock: \")\n",
        "print(\"Choose a metric: \\n1. 52 Week High \\n2. 52 Week Low \\n3. Return on Assets\")\n",
        "choice = input(\"Enter your choice: \")\n",
        "\n",
        "def fetch_summary(stocks, metric):\n",
        "  querystring = {\"symbols\": stocks}\n",
        "\n",
        "  headers = {\n",
        "    \"x-api-key\": key\n",
        "  }\n",
        "\n",
        "  response = requests.request(\"GET\", url, headers=headers, params=querystring)\n",
        "\n",
        "  data = response.json()\n",
        "\n",
        "  map = {\n",
        "      \"1\": \"fiftyTwoWeekHigh\",\n",
        "      \"2\": 'fiftyTwoWeekLow',\n",
        "      \"3\": 'returnOnAssets'\n",
        "  }\n",
        "\n",
        "\n",
        "  df = pd.DataFrame({\n",
        "            \"Stock Ticker\": [stocks],\n",
        "            \"Metric\": map[metric],\n",
        "            \"Value\": data[\"quoteResponse\"][\"result\"][0][map[metric]]\n",
        "            })\n",
        "  return df\n",
        "\n",
        "fetch_summary(stock, choice)"
      ],
      "metadata": {
        "colab": {
          "base_uri": "https://localhost:8080/",
          "height": 185
        },
        "id": "3On_mKpsiRLm",
        "outputId": "41daceaf-cdef-45b9-ba1a-fa742d9c388e"
      },
      "execution_count": 86,
      "outputs": [
        {
          "name": "stdout",
          "output_type": "stream",
          "text": [
            "Enter a stock: AAPL\n",
            "Choose a metric: \n",
            "1. 52 Week High \n",
            "2. 52 Week Low \n",
            "3. Return on Assets\n",
            "Enter your choice: 2\n"
          ]
        },
        {
          "output_type": "execute_result",
          "data": {
            "text/plain": [
              "  Stock Ticker           Metric   Value\n",
              "0         AAPL  fiftyTwoWeekLow  164.08"
            ],
            "text/html": [
              "\n",
              "  <div id=\"df-b7ea711f-c236-4067-adbf-ed01f6ea326c\" class=\"colab-df-container\">\n",
              "    <div>\n",
              "<style scoped>\n",
              "    .dataframe tbody tr th:only-of-type {\n",
              "        vertical-align: middle;\n",
              "    }\n",
              "\n",
              "    .dataframe tbody tr th {\n",
              "        vertical-align: top;\n",
              "    }\n",
              "\n",
              "    .dataframe thead th {\n",
              "        text-align: right;\n",
              "    }\n",
              "</style>\n",
              "<table border=\"1\" class=\"dataframe\">\n",
              "  <thead>\n",
              "    <tr style=\"text-align: right;\">\n",
              "      <th></th>\n",
              "      <th>Stock Ticker</th>\n",
              "      <th>Metric</th>\n",
              "      <th>Value</th>\n",
              "    </tr>\n",
              "  </thead>\n",
              "  <tbody>\n",
              "    <tr>\n",
              "      <th>0</th>\n",
              "      <td>AAPL</td>\n",
              "      <td>fiftyTwoWeekLow</td>\n",
              "      <td>164.08</td>\n",
              "    </tr>\n",
              "  </tbody>\n",
              "</table>\n",
              "</div>\n",
              "    <div class=\"colab-df-buttons\">\n",
              "\n",
              "  <div class=\"colab-df-container\">\n",
              "    <button class=\"colab-df-convert\" onclick=\"convertToInteractive('df-b7ea711f-c236-4067-adbf-ed01f6ea326c')\"\n",
              "            title=\"Convert this dataframe to an interactive table.\"\n",
              "            style=\"display:none;\">\n",
              "\n",
              "  <svg xmlns=\"http://www.w3.org/2000/svg\" height=\"24px\" viewBox=\"0 -960 960 960\">\n",
              "    <path d=\"M120-120v-720h720v720H120Zm60-500h600v-160H180v160Zm220 220h160v-160H400v160Zm0 220h160v-160H400v160ZM180-400h160v-160H180v160Zm440 0h160v-160H620v160ZM180-180h160v-160H180v160Zm440 0h160v-160H620v160Z\"/>\n",
              "  </svg>\n",
              "    </button>\n",
              "\n",
              "  <style>\n",
              "    .colab-df-container {\n",
              "      display:flex;\n",
              "      gap: 12px;\n",
              "    }\n",
              "\n",
              "    .colab-df-convert {\n",
              "      background-color: #E8F0FE;\n",
              "      border: none;\n",
              "      border-radius: 50%;\n",
              "      cursor: pointer;\n",
              "      display: none;\n",
              "      fill: #1967D2;\n",
              "      height: 32px;\n",
              "      padding: 0 0 0 0;\n",
              "      width: 32px;\n",
              "    }\n",
              "\n",
              "    .colab-df-convert:hover {\n",
              "      background-color: #E2EBFA;\n",
              "      box-shadow: 0px 1px 2px rgba(60, 64, 67, 0.3), 0px 1px 3px 1px rgba(60, 64, 67, 0.15);\n",
              "      fill: #174EA6;\n",
              "    }\n",
              "\n",
              "    .colab-df-buttons div {\n",
              "      margin-bottom: 4px;\n",
              "    }\n",
              "\n",
              "    [theme=dark] .colab-df-convert {\n",
              "      background-color: #3B4455;\n",
              "      fill: #D2E3FC;\n",
              "    }\n",
              "\n",
              "    [theme=dark] .colab-df-convert:hover {\n",
              "      background-color: #434B5C;\n",
              "      box-shadow: 0px 1px 3px 1px rgba(0, 0, 0, 0.15);\n",
              "      filter: drop-shadow(0px 1px 2px rgba(0, 0, 0, 0.3));\n",
              "      fill: #FFFFFF;\n",
              "    }\n",
              "  </style>\n",
              "\n",
              "    <script>\n",
              "      const buttonEl =\n",
              "        document.querySelector('#df-b7ea711f-c236-4067-adbf-ed01f6ea326c button.colab-df-convert');\n",
              "      buttonEl.style.display =\n",
              "        google.colab.kernel.accessAllowed ? 'block' : 'none';\n",
              "\n",
              "      async function convertToInteractive(key) {\n",
              "        const element = document.querySelector('#df-b7ea711f-c236-4067-adbf-ed01f6ea326c');\n",
              "        const dataTable =\n",
              "          await google.colab.kernel.invokeFunction('convertToInteractive',\n",
              "                                                    [key], {});\n",
              "        if (!dataTable) return;\n",
              "\n",
              "        const docLinkHtml = 'Like what you see? Visit the ' +\n",
              "          '<a target=\"_blank\" href=https://colab.research.google.com/notebooks/data_table.ipynb>data table notebook</a>'\n",
              "          + ' to learn more about interactive tables.';\n",
              "        element.innerHTML = '';\n",
              "        dataTable['output_type'] = 'display_data';\n",
              "        await google.colab.output.renderOutput(dataTable, element);\n",
              "        const docLink = document.createElement('div');\n",
              "        docLink.innerHTML = docLinkHtml;\n",
              "        element.appendChild(docLink);\n",
              "      }\n",
              "    </script>\n",
              "  </div>\n",
              "\n",
              "\n",
              "    </div>\n",
              "  </div>\n"
            ],
            "application/vnd.google.colaboratory.intrinsic+json": {
              "type": "dataframe",
              "summary": "{\n  \"name\": \"fetch_summary(stock, choice)\",\n  \"rows\": 1,\n  \"fields\": [\n    {\n      \"column\": \"Stock Ticker\",\n      \"properties\": {\n        \"dtype\": \"string\",\n        \"num_unique_values\": 1,\n        \"samples\": [\n          \"AAPL\"\n        ],\n        \"semantic_type\": \"\",\n        \"description\": \"\"\n      }\n    },\n    {\n      \"column\": \"Metric\",\n      \"properties\": {\n        \"dtype\": \"string\",\n        \"num_unique_values\": 1,\n        \"samples\": [\n          \"fiftyTwoWeekLow\"\n        ],\n        \"semantic_type\": \"\",\n        \"description\": \"\"\n      }\n    },\n    {\n      \"column\": \"Value\",\n      \"properties\": {\n        \"dtype\": \"number\",\n        \"std\": null,\n        \"min\": 164.08,\n        \"max\": 164.08,\n        \"num_unique_values\": 1,\n        \"samples\": [\n          164.08\n        ],\n        \"semantic_type\": \"\",\n        \"description\": \"\"\n      }\n    }\n  ]\n}"
            }
          },
          "metadata": {},
          "execution_count": 86
        }
      ]
    },
    {
      "cell_type": "markdown",
      "source": [
        "Task 2.2"
      ],
      "metadata": {
        "id": "EWzSAvAA44oR"
      }
    },
    {
      "cell_type": "code",
      "source": [
        "trending = input(\"Enter trending stocks, separated by commas: \")\n",
        "\n",
        "def fetch_trending(stocks):\n",
        "  querystring = {\"symbols\": stocks}\n",
        "\n",
        "  headers = {\n",
        "    \"x-api-key\": key\n",
        "  }\n",
        "\n",
        "  response = requests.request(\"GET\", url, headers=headers, params=querystring)\n",
        "\n",
        "  data = response.json().get(\"quoteResponse\", {}).get(\"result\", [])\n",
        "\n",
        "  trending_data = []\n",
        "\n",
        "  for item in data:\n",
        "    trending_data.append({\n",
        "    \"Stock Ticker\": item.get(\"symbol\", \"N/A\"),\n",
        "    \"Company Name\": item.get(\"longName\", \"N/A\"),\n",
        "    \"Current Price\": item.get(\"regularMarketPrice\", \"N/A\"),\n",
        "    \"52 Week High\": item.get(\"fiftyTwoWeekHigh\", \"N/A\"),\n",
        "    \"52 Week Low\": item.get(\"fiftyTwoWeekLow\", \"N/A\")\n",
        "    })\n",
        "\n",
        "  return pd.DataFrame(trending_data)\n",
        "\n",
        "\n",
        "fetch_trending(trending)\n"
      ],
      "metadata": {
        "colab": {
          "base_uri": "https://localhost:8080/",
          "height": 98
        },
        "id": "YEuVzUtx46W9",
        "outputId": "c7bea59d-91f8-4aa2-f649-7d025961ccc7"
      },
      "execution_count": 84,
      "outputs": [
        {
          "name": "stdout",
          "output_type": "stream",
          "text": [
            "Enter trending stocks, separated by commas: AAPL\n"
          ]
        },
        {
          "output_type": "execute_result",
          "data": {
            "text/plain": [
              "  Stock Ticker Company Name  Current Price  52 Week High  52 Week Low\n",
              "0         AAPL   Apple Inc.         240.36         260.1       164.08"
            ],
            "text/html": [
              "\n",
              "  <div id=\"df-1091b323-6bba-4857-9742-de8d9893346a\" class=\"colab-df-container\">\n",
              "    <div>\n",
              "<style scoped>\n",
              "    .dataframe tbody tr th:only-of-type {\n",
              "        vertical-align: middle;\n",
              "    }\n",
              "\n",
              "    .dataframe tbody tr th {\n",
              "        vertical-align: top;\n",
              "    }\n",
              "\n",
              "    .dataframe thead th {\n",
              "        text-align: right;\n",
              "    }\n",
              "</style>\n",
              "<table border=\"1\" class=\"dataframe\">\n",
              "  <thead>\n",
              "    <tr style=\"text-align: right;\">\n",
              "      <th></th>\n",
              "      <th>Stock Ticker</th>\n",
              "      <th>Company Name</th>\n",
              "      <th>Current Price</th>\n",
              "      <th>52 Week High</th>\n",
              "      <th>52 Week Low</th>\n",
              "    </tr>\n",
              "  </thead>\n",
              "  <tbody>\n",
              "    <tr>\n",
              "      <th>0</th>\n",
              "      <td>AAPL</td>\n",
              "      <td>Apple Inc.</td>\n",
              "      <td>240.36</td>\n",
              "      <td>260.1</td>\n",
              "      <td>164.08</td>\n",
              "    </tr>\n",
              "  </tbody>\n",
              "</table>\n",
              "</div>\n",
              "    <div class=\"colab-df-buttons\">\n",
              "\n",
              "  <div class=\"colab-df-container\">\n",
              "    <button class=\"colab-df-convert\" onclick=\"convertToInteractive('df-1091b323-6bba-4857-9742-de8d9893346a')\"\n",
              "            title=\"Convert this dataframe to an interactive table.\"\n",
              "            style=\"display:none;\">\n",
              "\n",
              "  <svg xmlns=\"http://www.w3.org/2000/svg\" height=\"24px\" viewBox=\"0 -960 960 960\">\n",
              "    <path d=\"M120-120v-720h720v720H120Zm60-500h600v-160H180v160Zm220 220h160v-160H400v160Zm0 220h160v-160H400v160ZM180-400h160v-160H180v160Zm440 0h160v-160H620v160ZM180-180h160v-160H180v160Zm440 0h160v-160H620v160Z\"/>\n",
              "  </svg>\n",
              "    </button>\n",
              "\n",
              "  <style>\n",
              "    .colab-df-container {\n",
              "      display:flex;\n",
              "      gap: 12px;\n",
              "    }\n",
              "\n",
              "    .colab-df-convert {\n",
              "      background-color: #E8F0FE;\n",
              "      border: none;\n",
              "      border-radius: 50%;\n",
              "      cursor: pointer;\n",
              "      display: none;\n",
              "      fill: #1967D2;\n",
              "      height: 32px;\n",
              "      padding: 0 0 0 0;\n",
              "      width: 32px;\n",
              "    }\n",
              "\n",
              "    .colab-df-convert:hover {\n",
              "      background-color: #E2EBFA;\n",
              "      box-shadow: 0px 1px 2px rgba(60, 64, 67, 0.3), 0px 1px 3px 1px rgba(60, 64, 67, 0.15);\n",
              "      fill: #174EA6;\n",
              "    }\n",
              "\n",
              "    .colab-df-buttons div {\n",
              "      margin-bottom: 4px;\n",
              "    }\n",
              "\n",
              "    [theme=dark] .colab-df-convert {\n",
              "      background-color: #3B4455;\n",
              "      fill: #D2E3FC;\n",
              "    }\n",
              "\n",
              "    [theme=dark] .colab-df-convert:hover {\n",
              "      background-color: #434B5C;\n",
              "      box-shadow: 0px 1px 3px 1px rgba(0, 0, 0, 0.15);\n",
              "      filter: drop-shadow(0px 1px 2px rgba(0, 0, 0, 0.3));\n",
              "      fill: #FFFFFF;\n",
              "    }\n",
              "  </style>\n",
              "\n",
              "    <script>\n",
              "      const buttonEl =\n",
              "        document.querySelector('#df-1091b323-6bba-4857-9742-de8d9893346a button.colab-df-convert');\n",
              "      buttonEl.style.display =\n",
              "        google.colab.kernel.accessAllowed ? 'block' : 'none';\n",
              "\n",
              "      async function convertToInteractive(key) {\n",
              "        const element = document.querySelector('#df-1091b323-6bba-4857-9742-de8d9893346a');\n",
              "        const dataTable =\n",
              "          await google.colab.kernel.invokeFunction('convertToInteractive',\n",
              "                                                    [key], {});\n",
              "        if (!dataTable) return;\n",
              "\n",
              "        const docLinkHtml = 'Like what you see? Visit the ' +\n",
              "          '<a target=\"_blank\" href=https://colab.research.google.com/notebooks/data_table.ipynb>data table notebook</a>'\n",
              "          + ' to learn more about interactive tables.';\n",
              "        element.innerHTML = '';\n",
              "        dataTable['output_type'] = 'display_data';\n",
              "        await google.colab.output.renderOutput(dataTable, element);\n",
              "        const docLink = document.createElement('div');\n",
              "        docLink.innerHTML = docLinkHtml;\n",
              "        element.appendChild(docLink);\n",
              "      }\n",
              "    </script>\n",
              "  </div>\n",
              "\n",
              "\n",
              "    </div>\n",
              "  </div>\n"
            ],
            "application/vnd.google.colaboratory.intrinsic+json": {
              "type": "dataframe",
              "summary": "{\n  \"name\": \"fetch_trending(trending)\",\n  \"rows\": 1,\n  \"fields\": [\n    {\n      \"column\": \"Stock Ticker\",\n      \"properties\": {\n        \"dtype\": \"string\",\n        \"num_unique_values\": 1,\n        \"samples\": [\n          \"AAPL\"\n        ],\n        \"semantic_type\": \"\",\n        \"description\": \"\"\n      }\n    },\n    {\n      \"column\": \"Company Name\",\n      \"properties\": {\n        \"dtype\": \"string\",\n        \"num_unique_values\": 1,\n        \"samples\": [\n          \"Apple Inc.\"\n        ],\n        \"semantic_type\": \"\",\n        \"description\": \"\"\n      }\n    },\n    {\n      \"column\": \"Current Price\",\n      \"properties\": {\n        \"dtype\": \"number\",\n        \"std\": null,\n        \"min\": 240.36,\n        \"max\": 240.36,\n        \"num_unique_values\": 1,\n        \"samples\": [\n          240.36\n        ],\n        \"semantic_type\": \"\",\n        \"description\": \"\"\n      }\n    },\n    {\n      \"column\": \"52 Week High\",\n      \"properties\": {\n        \"dtype\": \"number\",\n        \"std\": null,\n        \"min\": 260.1,\n        \"max\": 260.1,\n        \"num_unique_values\": 1,\n        \"samples\": [\n          260.1\n        ],\n        \"semantic_type\": \"\",\n        \"description\": \"\"\n      }\n    },\n    {\n      \"column\": \"52 Week Low\",\n      \"properties\": {\n        \"dtype\": \"number\",\n        \"std\": null,\n        \"min\": 164.08,\n        \"max\": 164.08,\n        \"num_unique_values\": 1,\n        \"samples\": [\n          164.08\n        ],\n        \"semantic_type\": \"\",\n        \"description\": \"\"\n      }\n    }\n  ]\n}"
            }
          },
          "metadata": {},
          "execution_count": 84
        }
      ]
    }
  ]
}